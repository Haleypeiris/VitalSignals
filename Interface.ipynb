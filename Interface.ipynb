{
 "cells": [
  {
   "cell_type": "code",
   "execution_count": 5,
   "id": "265d3916",
   "metadata": {},
   "outputs": [],
   "source": [
    "#pip install mysql-connector\n",
    "import mysql.connector as my_sql\n",
    "my_db = my_sql.connect(\n",
    "    host=\"\",\n",
    "    user=\"\",\n",
    "    passwd=\"\"\n",
    "    database=\"\"\n",
    "    \n",
    ")\n",
    "\n",
    "print(my_db)\n",
    "\n",
    "my_cursor = my_db.cursor()\n",
    "\n",
    "#Change excute statement to get specific rows\n",
    "my_cursor.execute(\"SELECT * FROM students\")\n",
    "\n",
    "my_result = my_cursor.fetchall()\n",
    "\n",
    "for row in my_results:\n",
    "    print(row)\n",
    "    \n",
    "    "
   ]
  },
  {
   "cell_type": "code",
   "execution_count": null,
   "id": "cfafb50d",
   "metadata": {},
   "outputs": [],
   "source": []
  }
 ],
 "metadata": {
  "kernelspec": {
   "display_name": "Python 3 (ipykernel)",
   "language": "python",
   "name": "python3"
  },
  "language_info": {
   "codemirror_mode": {
    "name": "ipython",
    "version": 3
   },
   "file_extension": ".py",
   "mimetype": "text/x-python",
   "name": "python",
   "nbconvert_exporter": "python",
   "pygments_lexer": "ipython3",
   "version": "3.9.12"
  }
 },
 "nbformat": 4,
 "nbformat_minor": 5
}
