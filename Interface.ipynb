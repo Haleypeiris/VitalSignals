{
 "cells": [
  {
   "cell_type": "code",
   "execution_count": 2,
   "metadata": {},
   "outputs": [],
   "source": [
    "import matplotlib.pyplot as plt\n",
    "%matplotlib tk\n",
    "import matplotlib.animation as animation\n",
    "import time\n",
    "#libraries we need:\n",
    "import mysql.connector as my_sql\n",
    "import matplotlib.animation as animation \n",
    "import matplotlib.pyplot as plt \n",
    "import numpy as np \n",
    "global data\n",
    "import scipy.signal\n",
    "from scipy.signal import find_peaks\n"
   ]
  },
  {
   "cell_type": "code",
   "execution_count": null,
   "metadata": {},
   "outputs": [],
   "source": [
    "\n",
    "\n",
    "fig = plt.figure()\n",
    "ax1 = fig.add_subplot(1,1,1)\n",
    "xar = []\n",
    "yar = []\n",
    "\n",
    "    \n",
    "# Execute the SQL query to fetch real-time data\n",
    "#my_cursor.execute(\"SELECT * FROM radar_sensor\")    \n",
    "#data = my_cursor.fetchall()\n",
    "\n",
    "def animate(i,xar, yar):\n",
    "    #pullData = open(\"sampleText.txt\",\"r\").read()\n",
    "    #dataArray = pullData.split('\\n')\n",
    "    my_db = my_sql.connect(\n",
    "        host=\"localhost\",\n",
    "        user=\"Arduino\",\n",
    "        passwd=\"ArduinoGetStarted.com\",\n",
    "        database=\"vital_signs\")\n",
    "    my_cursor = my_db.cursor()\n",
    "    my_cursor.execute(\"SELECT * FROM radar_sensor\")    \n",
    "    data = my_cursor.fetchall()\n",
    "    xar = []\n",
    "    yar = []\n",
    "    for row in data:\n",
    "        xar.append(row[0]) #timestamp - id actually\n",
    "        #print(row)\n",
    "        yar.append(row[4]) #heartrate; row 4 = breathing rate\n",
    "    ax1.clear()\n",
    "    ax1.plot(xar,yar)\n",
    "    #ax1.plot(yar)\n",
    "\n",
    "#ani = animation.FuncAnimation(fig, animate, fargs=(xs, ys), interval=1000)\n",
    "ani = animation.FuncAnimation(fig, animate, interval=1000)\n",
    "#plt.show()"
   ]
  },
  {
   "cell_type": "code",
   "execution_count": 1,
   "metadata": {},
   "outputs": [
    {
     "data": {
      "image/png": "[encoded data removed]",
      "text/plain": [
       "<Figure size 432x288 with 1 Axes>"
      ]
     },
     "metadata": {
      "needs_background": "light"
     },
     "output_type": "display_data"
    }
   ],
   "source": [
    "import matplotlib.pyplot as plt\n",
    "y1= [-1167,-1092,-1158,-1117,-1183,-1167,-1133,-1192,-1175,-1300,-1250,-1033,-1217,-1233,-1367,-1125,-1800,-1333,-1667,-1367,-1442,-1233,-1125,-1317,-1092,-1300,-983,-1308,-1342,-1317,-1308,-1325,-1350,-1400,-1433,-1325,-975,-1200,-1850,-1442,-1442,-1150,-1325,-1283,-1400]\n",
    "y2 = [6750,6692,6708,6700,6683,6667,6733,6617,6758,6692,7025,7183,7117,6958,7033,6983,6892,6933,7150,6283,6992,6992,6900,6933,6792,6992,7117,6950,6975,6917,6925,6967,6800,6900,6925,6842,7108,6783,6817,6867,6800,7025,6817,6792,6758]\n",
    "plt.plot(y2)\n",
    "plt.show()"
   ]
  },
  {
   "cell_type": "code",
   "execution_count": null,
   "metadata": {},
   "outputs": [],
   "source": [
    "lastTimeStamp = 0\n",
    "currentTimeStamp = 1;\n",
    "\n",
    "'''\n",
    "\n",
    "my_db = my_sql.connect(\n",
    "        host=\"localhost\",\n",
    "        user=\"Arduino\",\n",
    "        passwd=\"ArduinoGetStarted.com\",\n",
    "        database=\"vital_signs\")\n",
    "my_cursor = my_db.cursor()\n",
    "my_cursor.execute(\"SELECT * FROM radar_sensor\")    \n",
    "data = my_cursor.fetchall()\n",
    "for row in data:\n",
    "        xar.append(row[0]) #timestamp - id actually\n",
    "        #print(row)\n",
    "        yar.append(row[4]) #heartrate; row 4 = breathing rate\n",
    "        \n",
    "        avorite_languages = \"JavaScript, Python, and Java\"\n",
    "'''        \n",
    "\n",
    "accelData = row[1].split(\"_\")\n",
    "for i in range(0,len(accelData)):\n",
    "    accelData[i] = int(accelData[i])\n",
    "\n",
    "\n",
    "sos = signal.butter(2, 30, 'hp', fs=1000, output='sos')\n",
    "accelFiltered = signal.sosfilt(sos, accelData)\n",
    "\n",
    "peaks, _ = find_peaks(accelFiltered)\n",
    "plt.plot(accelFiltered)\n",
    "plt.plot(peaks, accelFiltered[peaks], \"accelFiltered\")\n",
    "plt.plot(np.zeros_like(accelFiltered), \"--\", color=\"gray\")\n",
    "plt.show()"
   ]
  },
  {
   "cell_type": "code",
   "execution_count": null,
   "metadata": {},
   "outputs": [],
   "source": []
  }
 ],
 "metadata": {
  "kernelspec": {
   "display_name": "Python 3",
   "language": "python",
   "name": "python3"
  },
  "language_info": {
   "codemirror_mode": {
    "name": "ipython",
    "version": 3
   },
   "file_extension": ".py",
   "mimetype": "text/x-python",
   "name": "python",
   "nbconvert_exporter": "python",
   "pygments_lexer": "ipython3",
   "version": "3.8.5"
  }
 },
 "nbformat": 4,
 "nbformat_minor": 5
}
