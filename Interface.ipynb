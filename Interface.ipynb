{
 "cells": [
  {
   "cell_type": "code",
   "execution_count": null,
   "metadata": {},
   "outputs": [],
   "source": [
    "#pip install mysql-connector\n",
    "import mysql.connector as my_sql\n",
    "my_db = my_sql.connect(\n",
    "    host=\"localhost\",\n",
    "    user=\"Arduino\",\n",
    "    passwd=\"ArduinoGetStarted.com\"\n",
    "    database=\"vital_signs\"\n",
    "    )\n",
    "    \n",
    "    my_cursor = my_db.cursor()\n",
    "    \n",
    "    # Execute the SQL query to fetch real-time data\n",
    "    my_cursor.execute(\"SELECT * FROM radar_sensor\")    \n",
    "    data = cursor.fetchall()\n",
    "    \n",
    "    for row in data:\n",
    "        print(row)"
   ]
  },
  {
   "cell_type": "code",
   "execution_count": null,
   "metadata": {},
   "outputs": [],
   "source": [
    "#pip install mysql-connector\n",
    "import mysql.connector as my_sql\n",
    "import matplotlib.animation as animation \n",
    "import matplotlib.pyplot as plt \n",
    "import numpy as np \n",
    "\n",
    "\n",
    "# creating a blank window \n",
    "# for the animation \n",
    "fig = plt.figure() \n",
    "axis = plt.axes(xlim =(-50, 50), \n",
    "                ylim =(-50, 50)) \n",
    " \n",
    "line, = axis.plot([], [], lw = 2) \n",
    " \n",
    "# what will our line dataset \n",
    "# contain? \n",
    "def init(): \n",
    "    line.set_data([], []) \n",
    "    return line, \n",
    " \n",
    "# initializing empty values \n",
    "# for x and y co-ordinates \n",
    "xdata, ydata = [], [] \n",
    " \n",
    "# animation function \n",
    "def animate(i): \n",
    "    # t is a parameter which varies \n",
    "    # with the frame number \n",
    "    t = 0.1 * i \n",
    "     \n",
    "    # x, y values to be plotted \n",
    "    x = t * np.sin(t) \n",
    "    y = t * np.cos(t) \n",
    "     \n",
    "    # appending values to the previously \n",
    "    # empty x and y data holders \n",
    "    xdata.append(x) \n",
    "    ydata.append(y) \n",
    "    line.set_data(xdata, ydata) \n",
    "     \n",
    "    return line, \n",
    " \n",
    "# calling the animation function     \n",
    "anim = animation.FuncAnimation(fig, animate, \n",
    "                            init_func = init, \n",
    "                            frames = 500,\n",
    "                            interval = 20, \n",
    "                            blit = True) \n",
    " "
   ]
  },
  {
   "cell_type": "code",
   "execution_count": null,
   "metadata": {},
   "outputs": [],
   "source": []
  }
 ],
 "metadata": {
  "kernelspec": {
   "display_name": "Python 3",
   "language": "python",
   "name": "python3"
  },
  "language_info": {
   "codemirror_mode": {
    "name": "ipython",
    "version": 3
   },
   "file_extension": ".py",
   "mimetype": "text/x-python",
   "name": "python",
   "nbconvert_exporter": "python",
   "pygments_lexer": "ipython3",
   "version": "3.8.5"
  }
 },
 "nbformat": 4,
 "nbformat_minor": 5
}
